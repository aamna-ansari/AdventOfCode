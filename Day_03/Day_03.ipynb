{
 "cells": [
  {
   "cell_type": "markdown",
   "metadata": {},
   "source": [
    "# **Day 3: Mull It Over**\n",
    "\n",
    "## **Part_01**\n",
    "\n",
    "# Problem Statement\n",
    "\n",
    "The challenge is to parse a corrupted string of memory, identify valid `mul(X,Y)` instructions, perform the multiplications, and sum up the results. Valid instructions must:\n",
    "\n",
    "- Strictly follow the `mul(X,Y)` format\n",
    "- Contain numbers between 1-3 digits\n",
    "- Ignore any invalid or surrounding characters\n",
    "\n",
    "# Strategy\n",
    "- **Pattern Matching:** Use regex to identify valid `mul(X,Y)` patterns.\n",
    "\n",
    "- **Validation:** Extract 𝑋 and 𝑌, ignoring invalid instructions.\n",
    "\n",
    "- **Calculation:** Compute products of 𝑋 and 𝑌, and sum them up."
   ]
  },
  {
   "cell_type": "code",
   "execution_count": 1,
   "metadata": {},
   "outputs": [
    {
     "name": "stdout",
     "output_type": "stream",
     "text": [
      "Total sum of valid multiplications: 174103751\n"
     ]
    }
   ],
   "source": [
    "import re\n",
    "\n",
    "def sum_mul(file_path):\n",
    "    \n",
    "    pattern = re.compile(r\"mul\\((\\d{1,3}),(\\d{1,3})\\)\")\n",
    "    \n",
    "    total = 0\n",
    "    with open(file_path, \"r\") as f:\n",
    "        for line in f:\n",
    "            matches = pattern.findall(line)\n",
    "            total += sum(int(x) * int(y) for x, y in matches)\n",
    "    \n",
    "    return total\n",
    "\n",
    "# File path to the input file\n",
    "file_path = \"D:/AdventOFCode/Day_03/input.txt\"\n",
    "\n",
    "result = sum_mul(file_path)\n",
    "print(\"Total sum of valid multiplications:\", result)\n"
   ]
  },
  {
   "cell_type": "markdown",
   "metadata": {},
   "source": [
    "## **Part_02**\n",
    "\n",
    "# Problem Statement\n",
    "\n",
    "The challenge now introduces two new instructions that modify multiplication behavior:\n",
    "\n",
    "- `do()` instruction enables future `mul` instructions\n",
    "- `don't()` instruction disables future `mul` instructions\n",
    "- Only the most recent instruction applies\n",
    "- Initially, `mul` instructions are enabled\n",
    "- Goal is to sum only the results of enabled multiplication instructions\n",
    "\n",
    "# Strategy\n",
    "**Pattern Matching:** Use regex to identify valid `mul(X,Y)`, `do()`, and `don't()` instructions.\n",
    "\n",
    "**Instruction Handling:** Track whether mul instructions are enabled or disabled based on `do()` and `don't()` instructions.\n",
    "\n",
    "**Conditional Execution:** Only execute and sum the results of `mul` instructions when they are enabled."
   ]
  },
  {
   "cell_type": "code",
   "execution_count": null,
   "metadata": {},
   "outputs": [
    {
     "name": "stdout",
     "output_type": "stream",
     "text": [
      "Total sum of enabled multiplications: 100411201\n"
     ]
    }
   ],
   "source": [
    "import re\n",
    "\n",
    "def sum_enabled_multiplications(file_path):\n",
    "    # Read the input file\n",
    "    with open(file_path, \"r\") as f:\n",
    "        data = f.read()\n",
    "    \n",
    "    # Regex to match valid mul instructions and control instructions\n",
    "    valid_mul_pattern = r\"mul\\(\\d{1,3},\\d{1,3}\\)\"\n",
    "    do_pattern = r\"do\\(\\)\"\n",
    "    dont_pattern = r\"don't\\(\\)\"\n",
    "    \n",
    "    # Split the input into tokens based on instructions\n",
    "    tokens = re.split(r\"(do\\(\\)|don't\\(\\)|mul\\(\\d{1,3},\\d{1,3}\\))\", data)\n",
    "    \n",
    "    mul_enabled = True  \n",
    "    total_sum = 0\n",
    "\n",
    "    for token in tokens:\n",
    "        token = token.strip()\n",
    "        if token == \"do()\":\n",
    "            mul_enabled = True\n",
    "        elif token == \"don't()\":\n",
    "            mul_enabled = False\n",
    "        elif re.match(valid_mul_pattern, token) and mul_enabled:\n",
    "            \n",
    "            numbers = list(map(int, re.findall(r\"\\d+\", token)))\n",
    "            total_sum += numbers[0] * numbers[1]\n",
    "    \n",
    "    return total_sum\n",
    "\n",
    "# File path to the input file\n",
    "file_path = \"D:/AdventOFCode/Day_03/input.txt\"\n",
    "result = sum_enabled_multiplications(file_path)\n",
    "print(\"Total sum of enabled multiplications:\", result)"
   ]
  }
 ],
 "metadata": {
  "kernelspec": {
   "display_name": "Python 3",
   "language": "python",
   "name": "python3"
  },
  "language_info": {
   "codemirror_mode": {
    "name": "ipython",
    "version": 3
   },
   "file_extension": ".py",
   "mimetype": "text/x-python",
   "name": "python",
   "nbconvert_exporter": "python",
   "pygments_lexer": "ipython3",
   "version": "3.12.4"
  }
 },
 "nbformat": 4,
 "nbformat_minor": 2
}
