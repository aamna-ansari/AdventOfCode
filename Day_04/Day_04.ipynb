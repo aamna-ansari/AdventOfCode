{
 "cells": [
  {
   "cell_type": "markdown",
   "metadata": {},
   "source": [
    "# Day 4: Ceres Search\n",
    "\n",
    "## Part 01\n",
    "\n",
    "### Problem Statement\n",
    "\n",
    "In Part 1 of challenge, i need to find all occurrences of the word \"XMAS\" in a 2D grid of letters."
   ]
  },
  {
   "cell_type": "code",
   "execution_count": null,
   "metadata": {},
   "outputs": [],
   "source": [
    "def count_xmas_occurrences(grid, word=\"XMAS\"):\n",
    "    rows, cols = len(grid), len(grid[0])\n",
    "    word_len = len(word)\n",
    "    \n",
    "    directions = [\n",
    "        (0, 1),   # Right\n",
    "        (0, -1),  # Left\n",
    "        (1, 0),   # Down\n",
    "        (-1, 0),  # Up\n",
    "        (1, 1),   # Down-Right\n",
    "        (-1, -1), # Up-Left\n",
    "        (1, -1),  # Down-Left\n",
    "        (-1, 1)   # Up-Right\n",
    "    ]\n",
    "    count = 0\n",
    "\n",
    "    def search_direction(r, c, dr, dc):\n",
    "        for i in range(word_len):\n",
    "            nr, nc = r + i * dr, c + i * dc\n",
    "            if nr < 0 or nr >= rows or nc < 0 or nc >= cols or grid[nr][nc] != word[i]:\n",
    "                return False\n",
    "        return True\n",
    "\n",
    "    \n",
    "    for r in range(rows):\n",
    "        for c in range(cols):\n",
    "            for dr, dc in directions:\n",
    "                if search_direction(r, c, dr, dc):\n",
    "                    count += 1\n",
    "\n",
    "    return count\n",
    "\n",
    "with open('input.txt', 'r') as file:\n",
    "    grid = [line.strip() for line in file.readlines()]\n",
    "\n",
    "\n",
    "result = count_xmas_occurrences(grid)\n",
    "print(result)"
   ]
  },
  {
   "cell_type": "markdown",
   "metadata": {},
   "source": [
    "## Part 02\n",
    "\n",
    "### Problem Statement\n",
    "\n",
    "Part 2 introduces a more complex word search:\n",
    "\n",
    "- Find patterns of \"X-MAS\" where two \"MAS\" formations create an X shape\n",
    "- The center of the X must be an 'A'\n",
    "- MAS can be formed in forward or reverse order\n",
    "- Diagonal MAS formations are key to finding the pattern"
   ]
  },
  {
   "cell_type": "code",
   "execution_count": null,
   "metadata": {},
   "outputs": [],
   "source": [
    "def count_x_mas_patterns(grid):\n",
    "    rows, cols = len(grid), len(grid[0])\n",
    "    count = 0\n",
    "\n",
    "    def check_diagonal(r, c, dr1, dc1, dr2, dc2):\n",
    "        try:\n",
    "            if (grid[r + dr1][c + dc1] == 'M' and\n",
    "                grid[r][c] == 'A' and\n",
    "                grid[r + dr2][c + dc2] == 'S'):\n",
    "                return True\n",
    "            if (grid[r + dr1][c + dc1] == 'S' and\n",
    "                grid[r][c] == 'A' and\n",
    "                grid[r + dr2][c + dc2] == 'M'):\n",
    "                return True\n",
    "        except IndexError:\n",
    "            pass\n",
    "        return False\n",
    "\n",
    "    \n",
    "    for r in range(1, rows - 1):\n",
    "        for c in range(1, cols - 1):\n",
    "            if grid[r][c] == 'A':\n",
    "                if (check_diagonal(r, c, -1, -1, 1, 1) and\n",
    "                    check_diagonal(r, c, -1, 1, 1, -1)):\n",
    "                    count += 1\n",
    "\n",
    "    return count\n",
    "\n",
    "with open('input.txt', 'r') as file:\n",
    "    grid = [line.strip() for line in file.readlines()]\n",
    "\n",
    "\n",
    "result = count_x_mas_patterns(grid)\n",
    "print(result)"
   ]
  }
 ],
 "metadata": {
  "kernelspec": {
   "display_name": "Python 3",
   "language": "python",
   "name": "python3"
  },
  "language_info": {
   "codemirror_mode": {
    "name": "ipython",
    "version": 3
   },
   "file_extension": ".py",
   "mimetype": "text/x-python",
   "name": "python",
   "nbconvert_exporter": "python",
   "pygments_lexer": "ipython3",
   "version": "3.12.4"
  }
 },
 "nbformat": 4,
 "nbformat_minor": 2
}
